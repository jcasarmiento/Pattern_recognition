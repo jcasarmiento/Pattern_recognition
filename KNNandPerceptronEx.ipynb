{
 "cells": [
  {
   "cell_type": "code",
   "execution_count": 1,
   "id": "eafc6f09",
   "metadata": {},
   "outputs": [],
   "source": [
    "import numpy as np"
   ]
  },
  {
   "cell_type": "code",
   "execution_count": 3,
   "id": "3ebc39fc",
   "metadata": {},
   "outputs": [],
   "source": [
    "from sklearn.datasets import load_digits\n",
    "from sklearn.model_selection import train_test_split\n",
    "digits = load_digits()"
   ]
  },
  {
   "cell_type": "code",
   "execution_count": 3,
   "id": "29709b5e",
   "metadata": {},
   "outputs": [],
   "source": [
    "with open('mnist-y.data') as file:\n",
    "    chars = [line[0] for line in file]"
   ]
  },
  {
   "cell_type": "code",
   "execution_count": 4,
   "id": "c0eef959",
   "metadata": {},
   "outputs": [],
   "source": [
    "vectors = []\n",
    "with open('mnist-x.data') as file:\n",
    "    for line in file:\n",
    "        vectors.append([1.0 if float(v) == 1 else -1.0 for v in line.strip().split(',')])"
   ]
  },
  {
   "cell_type": "code",
   "execution_count": 5,
   "id": "ceacbd18",
   "metadata": {},
   "outputs": [
    {
     "data": {
      "text/plain": [
       "<Figure size 640x480 with 0 Axes>"
      ]
     },
     "metadata": {},
     "output_type": "display_data"
    },
    {
     "data": {
      "image/png": "[encoded data removed]",
      "text/plain": [
       "<Figure size 480x480 with 1 Axes>"
      ]
     },
     "metadata": {},
     "output_type": "display_data"
    }
   ],
   "source": [
    "import matplotlib.pyplot as plt\n",
    "plt.gray()\n",
    "plt.matshow(digits.images[1001])\n",
    "plt.show()"
   ]
  },
  {
   "cell_type": "markdown",
   "id": "89608ad5",
   "metadata": {},
   "source": [
    "# KNN"
   ]
  },
  {
   "cell_type": "code",
   "execution_count": 6,
   "id": "cc8a3f45",
   "metadata": {},
   "outputs": [],
   "source": [
    "digits['data'] = np.where(digits['data']>0,1,-1)"
   ]
  },
  {
   "cell_type": "code",
   "execution_count": 7,
   "id": "89fa14cf",
   "metadata": {},
   "outputs": [],
   "source": [
    "vectors = np.array(vectors)"
   ]
  },
  {
   "cell_type": "code",
   "execution_count": 8,
   "id": "08aa0774",
   "metadata": {},
   "outputs": [],
   "source": [
    "X_train, X_test, y_train, y_test = train_test_split(vectors,chars,test_size=0.20, random_state=42)"
   ]
  },
  {
   "cell_type": "code",
   "execution_count": 9,
   "id": "16980ef9",
   "metadata": {},
   "outputs": [
    {
     "data": {
      "text/plain": [
       "(4800, 784)"
      ]
     },
     "execution_count": 9,
     "metadata": {},
     "output_type": "execute_result"
    }
   ],
   "source": [
    "X_train.shape"
   ]
  },
  {
   "cell_type": "code",
   "execution_count": 10,
   "id": "d2f91b76",
   "metadata": {},
   "outputs": [
    {
     "data": {
      "text/plain": [
       "(1200, 784)"
      ]
     },
     "execution_count": 10,
     "metadata": {},
     "output_type": "execute_result"
    }
   ],
   "source": [
    "X_test.shape"
   ]
  },
  {
   "cell_type": "code",
   "execution_count": 11,
   "id": "966336f8",
   "metadata": {},
   "outputs": [
    {
     "data": {
      "text/plain": [
       "(str, 4800, 1200)"
      ]
     },
     "execution_count": 11,
     "metadata": {},
     "output_type": "execute_result"
    }
   ],
   "source": [
    "type(y_train[0]),len(y_train),len(y_test)"
   ]
  },
  {
   "cell_type": "code",
   "execution_count": 12,
   "id": "9ec97175",
   "metadata": {},
   "outputs": [
    {
     "data": {
      "text/plain": [
       "(1797, 64)"
      ]
     },
     "execution_count": 12,
     "metadata": {},
     "output_type": "execute_result"
    }
   ],
   "source": [
    "digits['data'].shape"
   ]
  },
  {
   "cell_type": "code",
   "execution_count": 3,
   "id": "3599f174",
   "metadata": {},
   "outputs": [],
   "source": [
    "def distance(order,point1,point2):   #generalized form of mikowski distance(manhattan=order1,euclidean=order2)\n",
    "    return np.sum(np.fromiter((np.abs(e1-e2)**order for e1, e2 in zip(point1,point2)),dtype=point1[0].dtype))**(1/order)\n",
    "\n",
    "def distances(order,point,data):\n",
    "    distances_ls=[]\n",
    "    for i in data:\n",
    "        # distances_ls.append(distance(order,point,i))     #toooo slow O(n^2)->  t>10m\n",
    "        distances_ls.append(np.linalg.norm(point-i,ord=order))\n",
    "    return distances_ls\n",
    "\n",
    "def neighbors_idx(k,distances):\n",
    "    return np.argsort(distances)[:k]\n",
    "\n",
    "def classify(index,data_classes):\n",
    "    neighbors_class=[data_classes[i] for i in index]\n",
    "    return max(set(neighbors_class), key = neighbors_class.count)\n",
    "    \n",
    "def predict_class(test_point,k,distances_ord,X_train,labels):\n",
    "    train_data = X_train\n",
    "    # Implement a KNN algorithm\n",
    "    index_neighbors=neighbors_idx(k,distances(distances_ord,test_point,train_data))\n",
    "    closest_class=classify(index_neighbors,labels)\n",
    "    return closest_class"
   ]
  },
  {
   "cell_type": "code",
   "execution_count": 14,
   "id": "1c6c65d4",
   "metadata": {},
   "outputs": [
    {
     "data": {
      "text/plain": [
       "[20.09975124224178, 20.199009876724155, 25.45584412271571, 21.166010488516726]"
      ]
     },
     "execution_count": 14,
     "metadata": {},
     "output_type": "execute_result"
    }
   ],
   "source": [
    "distances(2,X_test[0,:],X_train)[:4]"
   ]
  },
  {
   "cell_type": "code",
   "execution_count": 15,
   "id": "337627c9",
   "metadata": {},
   "outputs": [
    {
     "data": {
      "text/plain": [
       "array([0, 1], dtype=int64)"
      ]
     },
     "execution_count": 15,
     "metadata": {},
     "output_type": "execute_result"
    }
   ],
   "source": [
    "neighbors_idx(2,distances(2,X_test[0,:],X_train)[:4])"
   ]
  },
  {
   "cell_type": "code",
   "execution_count": 16,
   "id": "2403060e",
   "metadata": {},
   "outputs": [
    {
     "data": {
      "text/plain": [
       "'6'"
      ]
     },
     "execution_count": 16,
     "metadata": {},
     "output_type": "execute_result"
    }
   ],
   "source": [
    "classify(np.array([0,1,2,3,4]),y_test)"
   ]
  },
  {
   "cell_type": "code",
   "execution_count": 27,
   "id": "6f3ea75b",
   "metadata": {},
   "outputs": [],
   "source": [
    "from sklearn.metrics import mean_squared_error,confusion_matrix\n",
    "from sklearn.preprocessing import LabelEncoder\n",
    "\n",
    "def test(y_test,X_test,X_train,y_train,k):\n",
    "    success = 0\n",
    "    examples = X_test\n",
    "    predictions=[]\n",
    "    for e in range(len(examples)):\n",
    "        # def predict(test_point,k,distances_ord,X_train,labels):\n",
    "        predictions.append(predict_class(examples[e],k,2,X_train,y_train))\n",
    "        if predictions[e] == y_test[e]:\n",
    "            success += 1\n",
    "\n",
    "    le=LabelEncoder()\n",
    "    le.fit(y_test)\n",
    "    y_true=le.transform(y_test)\n",
    "    y_pred=le.transform(predictions)\n",
    "    MSE=mean_squared_error(y_true,y_pred)   #to calculate error between actual values and predicted values\n",
    "    CM=confusion_matrix(y_true,y_pred)\n",
    "    return float(success) / len(examples),MSE,CM"
   ]
  },
  {
   "cell_type": "code",
   "execution_count": 28,
   "id": "f252bf0f",
   "metadata": {},
   "outputs": [
    {
     "data": {
      "text/plain": [
       "(0.9025,\n",
       " 1.6425,\n",
       " array([[105,   0,   0,   1,   0,   1,   1,   0,   0,   0],\n",
       "        [  0, 134,   0,   0,   0,   0,   0,   0,   0,   0],\n",
       "        [  1,  17,  86,   1,   0,   0,   3,   6,   1,   0],\n",
       "        [  0,   6,   1, 112,   0,   3,   0,   3,   0,   2],\n",
       "        [  0,   5,   0,   0, 110,   0,   1,   0,   0,   3],\n",
       "        [  1,   3,   0,   5,   1,  80,   3,   0,   0,   4],\n",
       "        [  1,   2,   0,   0,   0,   0, 116,   0,   0,   0],\n",
       "        [  0,   7,   0,   0,   1,   0,   0, 132,   0,   2],\n",
       "        [  0,   7,   1,   6,   3,   1,   0,   1,  89,   3],\n",
       "        [  2,   0,   0,   0,   3,   0,   1,   3,   0, 119]], dtype=int64))"
      ]
     },
     "execution_count": 28,
     "metadata": {},
     "output_type": "execute_result"
    }
   ],
   "source": [
    "acc,mse,cm=test(y_test,X_test,X_train,y_train,15)\n",
    "acc,mse,cm"
   ]
  },
  {
   "attachments": {},
   "cell_type": "markdown",
   "id": "7599101c",
   "metadata": {},
   "source": [
    "Now testing for multiple k:"
   ]
  },
  {
   "cell_type": "code",
   "execution_count": 45,
   "id": "66b812ca",
   "metadata": {},
   "outputs": [],
   "source": [
    "accs,mses=[],[]\n",
    "ks=np.arange(1,21)\n",
    "for k in ks:\n",
    "    acc,mse,_=test(y_test,X_test,X_train,y_train,k)\n",
    "    accs.append(acc)\n",
    "    mses.append(mse)"
   ]
  },
  {
   "cell_type": "code",
   "execution_count": 54,
   "id": "4a5e9996",
   "metadata": {},
   "outputs": [
    {
     "data": {
      "image/png": "[encoded data removed]",
      "text/plain": [
       "<Figure size 640x480 with 1 Axes>"
      ]
     },
     "metadata": {},
     "output_type": "display_data"
    }
   ],
   "source": [
    "import matplotlib.pyplot as plt\n",
    "\n",
    "plt.figure()\n",
    "\n",
    "plt.plot(ks,accs)\n",
    "plt.xlabel(\"K\")\n",
    "plt.xticks(ks)\n",
    "plt.title(\"Accuracy of model for K nearest neighbours\")\n",
    "plt.show()"
   ]
  },
  {
   "cell_type": "code",
   "execution_count": 56,
   "id": "f0806c79",
   "metadata": {},
   "outputs": [
    {
     "data": {
      "image/png": "[encoded data removed]",
      "text/plain": [
       "<Figure size 640x480 with 1 Axes>"
      ]
     },
     "metadata": {},
     "output_type": "display_data"
    }
   ],
   "source": [
    "plt.figure()\n",
    "\n",
    "plt.plot(ks,mses)\n",
    "plt.xlabel(\"K\")\n",
    "plt.xticks(ks)\n",
    "plt.title(\"MSE of model for K nearest neighbours\")\n",
    "plt.show()"
   ]
  },
  {
   "attachments": {},
   "cell_type": "markdown",
   "id": "a52514fd",
   "metadata": {},
   "source": [
    "From the comparison of MSE and accuracy, the best k is 5:"
   ]
  },
  {
   "cell_type": "code",
   "execution_count": 57,
   "id": "1169089d",
   "metadata": {},
   "outputs": [
    {
     "data": {
      "text/plain": [
       "(0.9191666666666667,\n",
       " 1.3975,\n",
       " array([[106,   0,   0,   1,   0,   0,   1,   0,   0,   0],\n",
       "        [  0, 134,   0,   0,   0,   0,   0,   0,   0,   0],\n",
       "        [  1,  10,  98,   1,   0,   0,   2,   2,   1,   0],\n",
       "        [  0,   1,   1, 117,   0,   3,   1,   2,   0,   2],\n",
       "        [  0,   4,   0,   0, 106,   0,   1,   1,   0,   7],\n",
       "        [  0,   2,   0,   2,   3,  83,   2,   1,   0,   4],\n",
       "        [  1,   1,   0,   0,   0,   0, 117,   0,   0,   0],\n",
       "        [  0,   6,   0,   0,   1,   0,   0, 133,   0,   2],\n",
       "        [  1,   5,   3,   5,   1,   3,   1,   0,  89,   3],\n",
       "        [  1,   0,   0,   1,   0,   0,   1,   5,   0, 120]], dtype=int64))"
      ]
     },
     "execution_count": 57,
     "metadata": {},
     "output_type": "execute_result"
    }
   ],
   "source": [
    "acc,mse,cm=test(y_test,X_test,X_train,y_train,5)\n",
    "acc,mse,cm"
   ]
  },
  {
   "cell_type": "markdown",
   "id": "49edf076",
   "metadata": {},
   "source": [
    "## Prostate"
   ]
  },
  {
   "cell_type": "code",
   "execution_count": 1,
   "id": "d93ed9e6",
   "metadata": {},
   "outputs": [],
   "source": [
    "import pandas as pd\n",
    "import numpy as np\n",
    "import matplotlib.pyplot as plt\n",
    "from sklearn.model_selection import train_test_split\n",
    "from sklearn.metrics import mean_squared_error\n",
    "from sklearn.preprocessing import StandardScaler"
   ]
  },
  {
   "cell_type": "code",
   "execution_count": 2,
   "id": "d993ea3a",
   "metadata": {},
   "outputs": [
    {
     "name": "stdout",
     "output_type": "stream",
     "text": [
      "<class 'pandas.core.frame.DataFrame'>\n",
      "RangeIndex: 97 entries, 0 to 96\n",
      "Data columns (total 9 columns):\n",
      " #   Column   Non-Null Count  Dtype  \n",
      "---  ------   --------------  -----  \n",
      " 0   lcavol   97 non-null     float64\n",
      " 1   lweight  97 non-null     float64\n",
      " 2   age      97 non-null     int64  \n",
      " 3   lbph     97 non-null     float64\n",
      " 4   svi      97 non-null     int64  \n",
      " 5   lcp      97 non-null     float64\n",
      " 6   gleason  97 non-null     int64  \n",
      " 7   pgg45    97 non-null     int64  \n",
      " 8   lpsa     97 non-null     float64\n",
      "dtypes: float64(5), int64(4)\n",
      "memory usage: 6.9 KB\n"
     ]
    }
   ],
   "source": [
    "prostate_data = pd.read_csv('prostate.csv')\n",
    "prostate_data.info()"
   ]
  },
  {
   "cell_type": "code",
   "execution_count": 3,
   "id": "a7894de0",
   "metadata": {},
   "outputs": [
    {
     "data": {
      "text/html": [
       "<div>\n",
       "<style scoped>\n",
       "    .dataframe tbody tr th:only-of-type {\n",
       "        vertical-align: middle;\n",
       "    }\n",
       "\n",
       "    .dataframe tbody tr th {\n",
       "        vertical-align: top;\n",
       "    }\n",
       "\n",
       "    .dataframe thead th {\n",
       "        text-align: right;\n",
       "    }\n",
       "</style>\n",
       "<table border=\"1\" class=\"dataframe\">\n",
       "  <thead>\n",
       "    <tr style=\"text-align: right;\">\n",
       "      <th></th>\n",
       "      <th>lcavol</th>\n",
       "      <th>lweight</th>\n",
       "      <th>age</th>\n",
       "      <th>lbph</th>\n",
       "      <th>svi</th>\n",
       "      <th>lcp</th>\n",
       "      <th>gleason</th>\n",
       "      <th>pgg45</th>\n",
       "      <th>lpsa</th>\n",
       "    </tr>\n",
       "  </thead>\n",
       "  <tbody>\n",
       "    <tr>\n",
       "      <th>count</th>\n",
       "      <td>97.000000</td>\n",
       "      <td>97.000000</td>\n",
       "      <td>97.000000</td>\n",
       "      <td>97.000000</td>\n",
       "      <td>97.000000</td>\n",
       "      <td>97.000000</td>\n",
       "      <td>97.000000</td>\n",
       "      <td>97.000000</td>\n",
       "      <td>97.000000</td>\n",
       "    </tr>\n",
       "    <tr>\n",
       "      <th>mean</th>\n",
       "      <td>1.350010</td>\n",
       "      <td>3.628943</td>\n",
       "      <td>63.865979</td>\n",
       "      <td>0.100356</td>\n",
       "      <td>0.216495</td>\n",
       "      <td>-0.179366</td>\n",
       "      <td>6.752577</td>\n",
       "      <td>24.381443</td>\n",
       "      <td>2.478387</td>\n",
       "    </tr>\n",
       "    <tr>\n",
       "      <th>std</th>\n",
       "      <td>1.178625</td>\n",
       "      <td>0.428411</td>\n",
       "      <td>7.445117</td>\n",
       "      <td>1.450807</td>\n",
       "      <td>0.413995</td>\n",
       "      <td>1.398250</td>\n",
       "      <td>0.722134</td>\n",
       "      <td>28.204035</td>\n",
       "      <td>1.154329</td>\n",
       "    </tr>\n",
       "    <tr>\n",
       "      <th>min</th>\n",
       "      <td>-1.347074</td>\n",
       "      <td>2.374906</td>\n",
       "      <td>41.000000</td>\n",
       "      <td>-1.386294</td>\n",
       "      <td>0.000000</td>\n",
       "      <td>-1.386294</td>\n",
       "      <td>6.000000</td>\n",
       "      <td>0.000000</td>\n",
       "      <td>-0.430783</td>\n",
       "    </tr>\n",
       "    <tr>\n",
       "      <th>25%</th>\n",
       "      <td>0.512824</td>\n",
       "      <td>3.375880</td>\n",
       "      <td>60.000000</td>\n",
       "      <td>-1.386294</td>\n",
       "      <td>0.000000</td>\n",
       "      <td>-1.386294</td>\n",
       "      <td>6.000000</td>\n",
       "      <td>0.000000</td>\n",
       "      <td>1.731656</td>\n",
       "    </tr>\n",
       "    <tr>\n",
       "      <th>50%</th>\n",
       "      <td>1.446919</td>\n",
       "      <td>3.623007</td>\n",
       "      <td>65.000000</td>\n",
       "      <td>0.300105</td>\n",
       "      <td>0.000000</td>\n",
       "      <td>-0.798508</td>\n",
       "      <td>7.000000</td>\n",
       "      <td>15.000000</td>\n",
       "      <td>2.591516</td>\n",
       "    </tr>\n",
       "    <tr>\n",
       "      <th>75%</th>\n",
       "      <td>2.127041</td>\n",
       "      <td>3.876396</td>\n",
       "      <td>68.000000</td>\n",
       "      <td>1.558145</td>\n",
       "      <td>0.000000</td>\n",
       "      <td>1.178655</td>\n",
       "      <td>7.000000</td>\n",
       "      <td>40.000000</td>\n",
       "      <td>3.056357</td>\n",
       "    </tr>\n",
       "    <tr>\n",
       "      <th>max</th>\n",
       "      <td>3.821004</td>\n",
       "      <td>4.780383</td>\n",
       "      <td>79.000000</td>\n",
       "      <td>2.326302</td>\n",
       "      <td>1.000000</td>\n",
       "      <td>2.904165</td>\n",
       "      <td>9.000000</td>\n",
       "      <td>100.000000</td>\n",
       "      <td>5.582932</td>\n",
       "    </tr>\n",
       "  </tbody>\n",
       "</table>\n",
       "</div>"
      ],
      "text/plain": [
       "          lcavol    lweight        age       lbph        svi        lcp  \\\n",
       "count  97.000000  97.000000  97.000000  97.000000  97.000000  97.000000   \n",
       "mean    1.350010   3.628943  63.865979   0.100356   0.216495  -0.179366   \n",
       "std     1.178625   0.428411   7.445117   1.450807   0.413995   1.398250   \n",
       "min    -1.347074   2.374906  41.000000  -1.386294   0.000000  -1.386294   \n",
       "25%     0.512824   3.375880  60.000000  -1.386294   0.000000  -1.386294   \n",
       "50%     1.446919   3.623007  65.000000   0.300105   0.000000  -0.798508   \n",
       "75%     2.127041   3.876396  68.000000   1.558145   0.000000   1.178655   \n",
       "max     3.821004   4.780383  79.000000   2.326302   1.000000   2.904165   \n",
       "\n",
       "         gleason       pgg45       lpsa  \n",
       "count  97.000000   97.000000  97.000000  \n",
       "mean    6.752577   24.381443   2.478387  \n",
       "std     0.722134   28.204035   1.154329  \n",
       "min     6.000000    0.000000  -0.430783  \n",
       "25%     6.000000    0.000000   1.731656  \n",
       "50%     7.000000   15.000000   2.591516  \n",
       "75%     7.000000   40.000000   3.056357  \n",
       "max     9.000000  100.000000   5.582932  "
      ]
     },
     "execution_count": 3,
     "metadata": {},
     "output_type": "execute_result"
    }
   ],
   "source": [
    "prostate_data.describe()"
   ]
  },
  {
   "attachments": {},
   "cell_type": "markdown",
   "id": "3835fe33",
   "metadata": {},
   "source": [
    "https://hastie.su.domains/ElemStatLearn/datasets/prostate.info.txt\n",
    "\n",
    "Prostate data info\n",
    "\n",
    "Predictors (columns 1--8)\n",
    "\n",
    "outcome (column 9)"
   ]
  },
  {
   "cell_type": "code",
   "execution_count": 4,
   "id": "dcc7b2cc",
   "metadata": {},
   "outputs": [],
   "source": [
    "#Divide the data set, and apply the K-NN. Test the accuracy, the training error, and the test error.\n",
    "prost_train, prost_test, prost_lab_train, prost_lab_test = train_test_split(prostate_data.drop(\"lpsa\",axis=1),prostate_data[\"lpsa\"],test_size=0.20, random_state=42)\n",
    "scaler=StandardScaler()\n",
    "scaler.fit(prost_train)\n",
    "prost_train=scaler.transform(prost_train)\n",
    "prost_test=scaler.transform(prost_test)\n",
    "prost_lab_train=prost_lab_train.to_numpy()\n",
    "prost_lab_test=prost_lab_test.to_numpy()"
   ]
  },
  {
   "cell_type": "code",
   "execution_count": 5,
   "id": "02a14036",
   "metadata": {},
   "outputs": [
    {
     "data": {
      "text/plain": [
       "(numpy.ndarray, numpy.ndarray, numpy.ndarray, numpy.ndarray)"
      ]
     },
     "execution_count": 5,
     "metadata": {},
     "output_type": "execute_result"
    }
   ],
   "source": [
    "type(prost_train),type(prost_test),type(prost_lab_train),type(prost_lab_train)"
   ]
  },
  {
   "cell_type": "code",
   "execution_count": 11,
   "id": "3bb32ecf",
   "metadata": {},
   "outputs": [
    {
     "data": {
      "text/plain": [
       "((77, 8), (20, 8))"
      ]
     },
     "execution_count": 11,
     "metadata": {},
     "output_type": "execute_result"
    }
   ],
   "source": [
    "prost_train.shape,prost_test.shape"
   ]
  },
  {
   "cell_type": "code",
   "execution_count": 6,
   "id": "6484dc19",
   "metadata": {},
   "outputs": [],
   "source": [
    "def distances(order,point,data):\n",
    "    distances_ls=[]\n",
    "    for i in data:\n",
    "        # distances_ls.append(distance(order,point,i))\n",
    "        distances_ls.append(np.linalg.norm(point-i,ord=order))\n",
    "    return distances_ls\n",
    "\n",
    "def neighbors_idx(k,distances):\n",
    "    return np.argsort(distances)[:k]\n",
    "\n",
    "def regress(index,labels):\n",
    "    neighbors_class=[labels[i] for i in index]\n",
    "    return sum(neighbors_class)/len(neighbors_class)\n",
    "    \n",
    "def predict_value(test_point,k,distances_ord,X_train,labels):\n",
    "    train_data = X_train\n",
    "    # Implement a KNN algorithm\n",
    "    index_neighbors=neighbors_idx(k,distances(distances_ord,test_point,train_data))\n",
    "    predicted_value=regress(index_neighbors,labels)\n",
    "    return predicted_value"
   ]
  },
  {
   "cell_type": "code",
   "execution_count": 7,
   "id": "07bc5c7f",
   "metadata": {},
   "outputs": [],
   "source": [
    "def test_regression(y_test,X_test,X_train,y_train,k):\n",
    "    success = 0\n",
    "    examples = X_test\n",
    "    predictions=[]\n",
    "    for e in range(len(examples)):\n",
    "        # def predict(test_point,k,distances_ord,X_train,labels):\n",
    "        predictions.append(predict_value(examples[e],k,2,X_train,y_train))\n",
    "        if predictions[e] == y_test[e]:\n",
    "            success += 1\n",
    "    MSE=mean_squared_error(y_test,predictions)   #to calculate error between actual values and predicted values\n",
    "    return MSE"
   ]
  },
  {
   "cell_type": "code",
   "execution_count": 8,
   "id": "de03fab0",
   "metadata": {},
   "outputs": [
    {
     "data": {
      "text/plain": [
       "0.5168366474909936"
      ]
     },
     "execution_count": 8,
     "metadata": {},
     "output_type": "execute_result"
    }
   ],
   "source": [
    "test_regression(prost_lab_test,prost_test,prost_train,prost_lab_train,5)"
   ]
  },
  {
   "cell_type": "code",
   "execution_count": 9,
   "id": "8a539e67",
   "metadata": {},
   "outputs": [],
   "source": [
    "ks=np.arange(1,21)\n",
    "mse=[]\n",
    "for k in ks:\n",
    "    mse.append(test_regression(prost_lab_test,prost_test,prost_train,prost_lab_train,k))"
   ]
  },
  {
   "cell_type": "code",
   "execution_count": 10,
   "id": "d3735341",
   "metadata": {},
   "outputs": [
    {
     "data": {
      "image/png": "[encoded data removed]",
      "text/plain": [
       "<Figure size 640x480 with 1 Axes>"
      ]
     },
     "metadata": {},
     "output_type": "display_data"
    }
   ],
   "source": [
    "plt.figure()\n",
    "plt.plot(ks,mse)\n",
    "plt.xlabel(\"K\")\n",
    "plt.ylabel(\"MSE\")\n",
    "plt.xticks(ks)\n",
    "plt.title(\"MSE of model for K nearest neighbours\")\n",
    "plt.show()"
   ]
  },
  {
   "attachments": {},
   "cell_type": "markdown",
   "id": "0a43cba4",
   "metadata": {},
   "source": [
    "From the evaluation of the mean squared error,, the chosen value of k is 9."
   ]
  },
  {
   "cell_type": "markdown",
   "id": "bbb4e6ce",
   "metadata": {},
   "source": [
    "# Perceptron"
   ]
  },
  {
   "cell_type": "code",
   "execution_count": null,
   "id": "5276d8be",
   "metadata": {},
   "outputs": [],
   "source": [
    "data = [{'vector': v, 'char': c} for (v, c) in zip(vectors, chars)]"
   ]
  },
  {
   "cell_type": "code",
   "execution_count": null,
   "id": "a535dd95",
   "metadata": {},
   "outputs": [],
   "source": [
    "def train(target_char, opposite_char, steps):\n",
    "    train_data = data[:5000]\n",
    "    train_data = [e for e in train_data if e['char'] in (target_char, opposite_char)]\n",
    "    w = np.zeros(784)\n",
    "    i = 0\n",
    "    weights = w\n",
    "    # Implement perceptron, remember:\n",
    "    if z >= 0 and y == opposite_char:\n",
    "        #TODO\n",
    "    elif z < 0 and y == target_char:\n",
    "        #TODO\n",
    "    return w\n",
    "\n",
    "def error(target_char, opposite_char,data,w):\n",
    "    success = 0\n",
    "    for e in data:\n",
    "        z = np.dot(e['vector'], w)\n",
    "        if (z >= 0 and e['char'] == target_char) or (z < 0 and e['char'] == opposite_char):\n",
    "            success += 1\n",
    "    return float(success) / len(data)\n",
    "\n",
    "def test(target_char, opposite_char,weights):\n",
    "    success = 0\n",
    "    examples = data[5000:]\n",
    "\n",
    "    examples = [e for e in examples if e['char'] in (target_char, opposite_char)]\n",
    "\n",
    "    for e in examples:\n",
    "        z = np.dot(e['vector'], weights)\n",
    "        if (z >= 0 and e['char'] == target_char) or (z < 0 and e['char'] == opposite_char):\n",
    "            success += 1\n",
    "\n",
    "    return float(success) / len(examples)"
   ]
  },
  {
   "cell_type": "code",
   "execution_count": null,
   "id": "065433ef",
   "metadata": {},
   "outputs": [],
   "source": [
    "weights = train('1','2',100)"
   ]
  },
  {
   "cell_type": "code",
   "execution_count": null,
   "id": "a61e8dfa",
   "metadata": {},
   "outputs": [],
   "source": [
    "test('1','2',weights)"
   ]
  },
  {
   "cell_type": "code",
   "execution_count": null,
   "id": "13b67877",
   "metadata": {},
   "outputs": [],
   "source": []
  }
 ],
 "metadata": {
  "kernelspec": {
   "display_name": "data_science_conda",
   "language": "python",
   "name": "data_science_conda"
  },
  "language_info": {
   "codemirror_mode": {
    "name": "ipython",
    "version": 3
   },
   "file_extension": ".py",
   "mimetype": "text/x-python",
   "name": "python",
   "nbconvert_exporter": "python",
   "pygments_lexer": "ipython3",
   "version": "3.9.16"
  },
  "vscode": {
   "interpreter": {
    "hash": "84ad5d8103cae5cc69a6f65c01617dfcaca85682f717982d8664e7675826b2ac"
   }
  }
 },
 "nbformat": 4,
 "nbformat_minor": 5
}
